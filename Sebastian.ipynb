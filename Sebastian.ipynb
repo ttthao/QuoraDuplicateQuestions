{
 "cells": [
  {
   "cell_type": "markdown",
   "metadata": {},
   "source": [
    "# Notes\n",
    "\n",
    "    404351 points\n",
    "        149306 duplicates\n",
    "        255045 non-duplicates\n",
    "\n",
    "    unique questions: 789801\n",
    "    questions used more than once: 13698\n",
    "\n",
    "    questions used 1 times: 776103\n",
    "    questions used 2 times: 11135\n",
    "    questions used 3 times: 1591\n",
    "    questions used 4 times: 455\n",
    "    questions used 5 times: 213\n",
    "    questions used 6 times: 117\n",
    "    questions used 7 times: 55\n",
    "    questions used 8 times: 31\n",
    "    questions used 9 times: 33\n",
    "    ...\n",
    "    \n",
    "    unique question lengths\n",
    "        min = 0\n",
    "        max = 1130\n",
    "        mean = 58.3382611569"
   ]
  },
  {
   "cell_type": "code",
   "execution_count": 15,
   "metadata": {
    "collapsed": false
   },
   "outputs": [],
   "source": [
    "import csv\n",
    "import matplotlib.pyplot as plt\n",
    "import string\n",
    "import math\n",
    "\n",
    "import numpy as np\n",
    "\n",
    "%matplotlib inline\n",
    "plt.rcParams[\"figure.figsize\"] = (10,5)"
   ]
  },
  {
   "cell_type": "code",
   "execution_count": 2,
   "metadata": {
    "collapsed": false
   },
   "outputs": [
    {
     "name": "stdout",
     "output_type": "stream",
     "text": [
      "Reading data...\n",
      "done\n"
     ]
    }
   ],
   "source": [
    "print(\"Reading data...\" )    \n",
    "        \n",
    "with open('questions.csv') as csvfile:\n",
    "    reader = csv.reader(csvfile)\n",
    "    keys = next(reader)\n",
    "    data = [row for row in reader]  \n",
    "    \n",
    "print(\"done\")"
   ]
  },
  {
   "cell_type": "code",
   "execution_count": 3,
   "metadata": {
    "collapsed": true
   },
   "outputs": [],
   "source": [
    "#indexes for values in data\n",
    "pid = 0\n",
    "qid1 = 1\n",
    "qid2 = 2\n",
    "q1 = 3\n",
    "q2 = 4\n",
    "dup = 5"
   ]
  },
  {
   "cell_type": "code",
   "execution_count": 22,
   "metadata": {
    "collapsed": false
   },
   "outputs": [
    {
     "name": "stdout",
     "output_type": "stream",
     "text": [
      "404351 points\n",
      "149306 duplicates\n",
      "255045 non-duplicates\n"
     ]
    }
   ],
   "source": [
    "# label distribution\n",
    "print('%d points'%len(data))\n",
    "print(\"%d duplicates\"%sum([1 for d in data if d[dup] == '1']))\n",
    "print(\"%d non-duplicates\"%sum([1 for d in data if d[dup] == '0']))"
   ]
  },
  {
   "cell_type": "code",
   "execution_count": 5,
   "metadata": {
    "collapsed": true
   },
   "outputs": [],
   "source": [
    "# remove punctuation and ignore case\n",
    "punctuation = set(string.punctuation)\n",
    "for i in range(len(data)):\n",
    "    data[i][q1] =''.join([c for c in data[i][q1].lower() if not c in punctuation])\n",
    "    data[i][q2] =''.join([c for c in data[i][q2].lower() if not c in punctuation])"
   ]
  },
  {
   "cell_type": "code",
   "execution_count": 115,
   "metadata": {
    "collapsed": false
   },
   "outputs": [
    {
     "name": "stdout",
     "output_type": "stream",
     "text": [
      "['4969', '3504', '9933', 'since voldemort never told anyone about his horcruxes how did regulus black discover his secret', 'can voldemort kill himself without destroying the horcruxes', '0']\n",
      "['60750', '3504', '120834', 'since voldemort never told anyone about his horcruxes how did regulus black discover his secret', 'what are all of voldemorts horcruxes', '0']\n",
      "['81564', '3504', '162018', 'since voldemort never told anyone about his horcruxes how did regulus black discover his secret', 'if wizards kill anyone their soul divides to form horcruxes harry has killed many things including voldemort the basilisk professor quirrell etc how will he die', '0']\n",
      "['112629', '3504', '223302', 'since voldemort never told anyone about his horcruxes how did regulus black discover his secret', 'when harry was a baby voldemort tried to murder him which resulted in what would have killed him if he didnt have horcruxes wouldnt this mean that he would have had to use one of his horcruxes to stay alive', '0']\n",
      "['211821', '3504', '417770', 'since voldemort never told anyone about his horcruxes how did regulus black discover his secret', 'if dumbledore knew that voldemort had created horcruxes then why didnt he himself create his own horcruxes so that he could return in the end', '0']\n",
      "['221865', '113975', '3504', 'where did nagini come from and how did voldemort turn her into a horcrux', 'since voldemort never told anyone about his horcruxes how did regulus black discover his secret', '0']\n",
      "['339073', '3504', '664698', 'since voldemort never told anyone about his horcruxes how did regulus black discover his secret', 'how did dumbldore know that voldemort would return before he knew about his horcruxes', '0']\n",
      "['403748', '3504', '788641', 'since voldemort never told anyone about his horcruxes how did regulus black discover his secret', 'how was it possible for voldemort to be alive when his horcruxes were destroyed', '0']\n"
     ]
    }
   ],
   "source": [
    "uniq_questions = {} # list of unique questions strings\n",
    "\n",
    "for d in data:\n",
    "    if d[q1] in uniq_questions:\n",
    "        uniq_questions[d[q1]] += 1\n",
    "    else:\n",
    "        uniq_questions[d[q1]] = 1\n",
    "    \n",
    "    if d[q2] in uniq_questions:\n",
    "        uniq_questions[d[q2]] += 1\n",
    "    else:\n",
    "        uniq_questions[d[q2]] = 1"
   ]
  },
  {
   "cell_type": "code",
   "execution_count": 7,
   "metadata": {
    "collapsed": false
   },
   "outputs": [
    {
     "name": "stdout",
     "output_type": "stream",
     "text": [
      "unique question lengths\n",
      "\tmin = 0\n",
      "\tmax = 1130\n",
      "\tmean = 58.3382611569\n"
     ]
    }
   ],
   "source": [
    "#unique question word length\n",
    "question_lengths = [len(q) for q in uniq_questions]\n",
    "print(\"unique question lengths\")\n",
    "print(\"\\tmin = %s\"%min(question_lengths))\n",
    "print(\"\\tmax = %s\"%max(question_lengths))\n",
    "print(\"\\tmean = %s\"%(float(sum(question_lengths))/len(question_lengths)))\n"
   ]
  },
  {
   "cell_type": "code",
   "execution_count": 8,
   "metadata": {
    "collapsed": false
   },
   "outputs": [
    {
     "name": "stdout",
     "output_type": "stream",
     "text": [
      "unique questions: 789801\n",
      "questions used more than once: 13698\n",
      "\n",
      "questions used 1 times: 776103\n",
      "questions used 2 times: 11135\n",
      "questions used 3 times: 1591\n",
      "questions used 4 times: 455\n",
      "questions used 5 times: 213\n",
      "questions used 6 times: 117\n",
      "questions used 7 times: 55\n",
      "questions used 8 times: 31\n",
      "questions used 9 times: 33\n",
      "...\n",
      "\n"
     ]
    }
   ],
   "source": [
    "print('unique questions: %d'%len(uniq_questions))\n",
    "print('questions used more than once: %d'%sum([1 if uniq_questions[q] > 1 else 0 for q in uniq_questions]))\n",
    "\n",
    "print('')\n",
    "\n",
    "for i in range(1,10):\n",
    "    print('questions used %d times: %d'%(i, sum([1 if uniq_questions[q] == i else 0 for q in uniq_questions])))\n",
    "print('...')\n",
    "\n",
    "print('')\n",
    "\n"
   ]
  },
  {
   "cell_type": "code",
   "execution_count": 42,
   "metadata": {
    "collapsed": false
   },
   "outputs": [],
   "source": [
    "def vectorize_string(s):\n",
    "    '''\n",
    "    turns a string into a dictionary of words. \n",
    "    Can be used as a 'vector' where noexistant keys have val 0\n",
    "    \n",
    "    Each (substrings of len p) maps to the amount of appearances\n",
    "    of itself in the original string\n",
    "    '''\n",
    "    \n",
    "    v = {}\n",
    "    for word in s.split():\n",
    "        if word in v:\n",
    "            v[word] += 1\n",
    "        else:\n",
    "            v[word] = 1\n",
    "            \n",
    "    return v\n",
    "\n",
    "\n",
    "def magnitude_dict(data):\n",
    "    '''\n",
    "    Evaulats the magnitude of a dict\n",
    "    '''\n",
    "    \n",
    "    return sum([value**2 for value in data.values()])**.5\n",
    "\n",
    "\n",
    "def dot_dicts(d1,d2):\n",
    "    '''\n",
    "    multiplies the values of the overlaping keys\n",
    "    in two dictionaries.  It chooses to iterate\n",
    "    over the smaller and lookup in the larger\n",
    "    '''\n",
    "    \n",
    "    a = d1 if len(d1) < len(d2) else d2\n",
    "    b = d2 if len(d1) < len(d2) else d1\n",
    "    \n",
    "    dot = 0\n",
    "    # a is shorter than b\n",
    "    for s in a:\n",
    "        if s in b:\n",
    "            dot += a[s]*b[s]\n",
    "            \n",
    "    return dot\n",
    "    \n",
    "    \n",
    "def cosine_simularity_string(s1,s2):\n",
    "    '''\n",
    "    returns the cosine simularity of two strings\n",
    "    words in each string are considered dimensions\n",
    "    '''\n",
    "\n",
    "    if (len(s1) == 0 and len(s1) == 0):\n",
    "        return 1\n",
    "    elif (len(s1) == 0 or len(s2) == 0):\n",
    "        return 0\n",
    "    \n",
    "    d1 = vectorize_string(s1)\n",
    "    d2 = vectorize_string(s2)\n",
    "\n",
    "    return dot_dicts(d1,d2)/(magnitude_dict(d1)*magnitude_dict(d2))\n",
    "\n",
    "\n",
    "def intersect_dicts(d1,d2):\n",
    "    '''\n",
    "    returns an integer count of the intesecting keys in \n",
    "    two dictionaries\n",
    "    '''\n",
    "    \n",
    "    a = d1 if len(d1) < len(d2) else d2\n",
    "    b = d2 if len(d1) < len(d2) else d1\n",
    "    \n",
    "    count = 0\n",
    "    for s in a:\n",
    "        if s in b:\n",
    "            count += 1\n",
    "            \n",
    "    return count\n",
    "\n",
    "\n",
    "def union_dicts(d1,d2):\n",
    "    '''\n",
    "    returns an integer count of the union of keys in \n",
    "    two dictionaries\n",
    "    '''\n",
    "    \n",
    "    shared = 0\n",
    "    unique = 0\n",
    "    \n",
    "    for s in d1:\n",
    "        if s in d2:\n",
    "            shared += 1\n",
    "        else:\n",
    "            unique += 1\n",
    "    \n",
    "    for s in d2:\n",
    "        if s not in d1:\n",
    "            unique += 1\n",
    "            \n",
    "    return shared + unique\n",
    "\n",
    "    \n",
    "def jaccard_simularity_string(s1,s2):\n",
    "    '''\n",
    "    returns the jaccard simularity of two strings\n",
    "    words in each strings are considered dimensions\n",
    "    '''\n",
    "    \n",
    "    if (len(s1) == 0 and len(s1) == 0):\n",
    "        return 1\n",
    "    elif (len(s1) == 0 or len(s2) == 0):\n",
    "        return 0\n",
    "    \n",
    "    d1 = vectorize_string(s1)\n",
    "    d2 = vectorize_string(s2)\n",
    "\n",
    "    return float(intersect_dicts(d1,d2))/union_dicts(d1,d2)"
   ]
  },
  {
   "cell_type": "code",
   "execution_count": 59,
   "metadata": {
    "collapsed": false
   },
   "outputs": [
    {
     "data": {
      "image/png": "[encoded data removed]",
      "text/plain": [
       "<matplotlib.figure.Figure at 0x11c634790>"
      ]
     },
     "metadata": {},
     "output_type": "display_data"
    },
    {
     "data": {
      "image/png": "[encoded data removed]",
      "text/plain": [
       "<matplotlib.figure.Figure at 0x114f73390>"
      ]
     },
     "metadata": {},
     "output_type": "display_data"
    },
    {
     "name": "stdout",
     "output_type": "stream",
     "text": [
      "(best boundary = 0.499376)\n",
      "trivial cosine predictor accuracy 0.657968\n"
     ]
    }
   ],
   "source": [
    "cs_all = [cosine_simularity_string(d[q1], d[q2]) for d in data]\n",
    "\n",
    "plt.title('Histogram of Cosine Simularity of pairs')\n",
    "plt.xlabel('cosine simularity')\n",
    "plt.ylabel('count')\n",
    "bins = np.arange(0,1.01,.01)\n",
    "plt.hist(cs_all, bins=bins)\n",
    "plt.show()\n",
    "\n",
    "cs_all_dup = [cosine_simularity_string(d[q1], d[q2]) for d in data if d[dup] == '1']\n",
    "cs_all_non = [cosine_simularity_string(d[q1], d[q2]) for d in data if d[dup] == '0']\n",
    "\n",
    "plt.title('Histogram of Cosine Simularity of pairs')\n",
    "plt.xlabel('cosine simularity')\n",
    "plt.ylabel('count')\n",
    "\n",
    "plt.hist(cs_all_dup, bins=bins, alpha=0.3, label='duplicates')\n",
    "plt.hist(cs_all_non, bins=bins, alpha=0.3, label='non-duplicates')\n",
    "plt.legend(loc='best')\n",
    "plt.show()\n",
    "\n",
    "# Trivial predictor\n",
    "X = [cosine_simularity_string(d[q1], d[q2]) for d in data]\n",
    "y = [int(d[dup]) for d in data]\n",
    "\n",
    "# weigted average of averages of dup vs non dup\n",
    "best_boundary = (np.mean(cs_all_dup)*len(cs_all_dup)+np.mean(cs_all_non)*len(cs_all_non))/len(cs_all)\n",
    "print(\"(best boundary = %f)\"%best_boundary)\n",
    "\n",
    "def trivial_predictor(x):\n",
    "    if x > 0.5:\n",
    "        return 1\n",
    "    else:\n",
    "        return 0\n",
    "\n",
    "tp_cos_accuracy = float(sum([1 for xi, yi in zip(X,y) if trivial_predictor(xi) == yi]))/len(y)\n",
    "print('trivial cosine predictor accuracy %f'%tp_cos_accuracy)"
   ]
  },
  {
   "cell_type": "code",
   "execution_count": 58,
   "metadata": {
    "collapsed": false,
    "scrolled": false
   },
   "outputs": [
    {
     "data": {
      "image/png": "[encoded data removed]",
      "text/plain": [
       "<matplotlib.figure.Figure at 0x11c691050>"
      ]
     },
     "metadata": {},
     "output_type": "display_data"
    },
    {
     "data": {
      "image/png": "[encoded data removed]",
      "text/plain": [
       "<matplotlib.figure.Figure at 0x114bda390>"
      ]
     },
     "metadata": {},
     "output_type": "display_data"
    },
    {
     "name": "stdout",
     "output_type": "stream",
     "text": [
      "(best boundary = 0.362058)\n",
      "trivial Jaccard predictor accuracy 0.666545\n"
     ]
    }
   ],
   "source": [
    "jc_all = [jaccard_simularity_string(d[q1], d[q2]) for d in data]\n",
    "\n",
    "plt.title('Histogram of Jaccard Simularity of pairs')\n",
    "plt.xlabel('Jaccard simularity')\n",
    "plt.ylabel('count')\n",
    "bins = np.arange(0,1.01,.01)\n",
    "plt.hist(jc_all, bins=bins)\n",
    "plt.show()\n",
    "\n",
    "jc_all_dup = [jaccard_simularity_string(d[q1], d[q2]) for d in data if d[dup] == '1']\n",
    "jc_all_non = [jaccard_simularity_string(d[q1], d[q2]) for d in data if d[dup] == '0']\n",
    "\n",
    "plt.title('Histogram of Jaccard Simularity of pairs')\n",
    "plt.xlabel('Jaccard simularity')\n",
    "plt.ylabel('count')\n",
    "\n",
    "plt.hist(jc_all_dup, bins=bins, alpha=0.3, label='duplicates')\n",
    "plt.hist(jc_all_non, bins=bins, alpha=0.3, label='non-duplicates')\n",
    "plt.legend(loc='best')\n",
    "plt.show()\n",
    "\n",
    "# Trivial predictor\n",
    "X = [jaccard_simularity_string(d[q1], d[q2]) for d in data]\n",
    "\n",
    "# weigted average of averages of dup vs non dup\n",
    "best_boundary = (np.mean(jc_all_dup)*len(jc_all_dup)+np.mean(jc_all_non)*len(jc_all_non))/len(jc_all)\n",
    "print(\"(best boundary = %f)\"%best_boundary)\n",
    "\n",
    "def trivial_predictor(x):\n",
    "    if x > best_boundary:\n",
    "        return 1\n",
    "    else:\n",
    "        return 0\n",
    "\n",
    "tp_jc_accuracy = float(sum([1 for xi, yi in zip(X,y) if trivial_predictor(xi) == yi]))/len(y)\n",
    "print('trivial Jaccard predictor accuracy %f'%tp_jc_accuracy)"
   ]
  },
  {
   "cell_type": "code",
   "execution_count": 62,
   "metadata": {
    "collapsed": false
   },
   "outputs": [
    {
     "data": {
      "text/plain": [
       "0.3010299956639812"
      ]
     },
     "execution_count": 62,
     "metadata": {},
     "output_type": "execute_result"
    }
   ],
   "source": [
    "math.log10(2)"
   ]
  },
  {
   "cell_type": "code",
   "execution_count": 81,
   "metadata": {
    "collapsed": false
   },
   "outputs": [],
   "source": [
    "def sum_tf_idf(s1,s2):\n",
    "    '''\n",
    "    returns the sum of the tf-idf of each word in\n",
    "    both strings\n",
    "    '''\n",
    "    \n",
    "    d1 = vectorize_string(s1)\n",
    "    d2 = vectorize_string(s2)\n",
    "    \n",
    "    idf = {}\n",
    "    for word in d1:\n",
    "        if word in d1 and word in d2:\n",
    "            idf[word] = 0\n",
    "        else:\n",
    "            idf[word] = 0.3010299956639812\n",
    "    for word in d2:\n",
    "        if word not in idf:\n",
    "            idf[word] = 0.3010299956639812\n",
    "    \n",
    "    tf_idf = {}\n",
    "    for word in d1:\n",
    "        tf_idf[word] = float(d1[word])/len(d1)*idf[word]\n",
    "    for word in d2:\n",
    "        if word not in tf_idf:\n",
    "            tf_idf[word] = float(d2[word])/len(d2)*idf[word]\n",
    "            \n",
    "    total = 0\n",
    "    for word in tf_idf:\n",
    "        total += tf_idf[word]\n",
    "        \n",
    "    return total\n"
   ]
  },
  {
   "cell_type": "markdown",
   "metadata": {},
   "source": [
    "# pairwise idf"
   ]
  },
  {
   "cell_type": "code",
   "execution_count": 86,
   "metadata": {
    "collapsed": false
   },
   "outputs": [
    {
     "data": {
      "image/png": "[encoded data removed]",
      "text/plain": [
       "<matplotlib.figure.Figure at 0x11b6ca450>"
      ]
     },
     "metadata": {},
     "output_type": "display_data"
    },
    {
     "data": {
      "image/png": "[encoded data removed]",
      "text/plain": [
       "<matplotlib.figure.Figure at 0x116623590>"
      ]
     },
     "metadata": {},
     "output_type": "display_data"
    },
    {
     "name": "stdout",
     "output_type": "stream",
     "text": [
      "(best boundary = 0.309740)\n",
      "trivial Sum tf-idf predictor accuracy 0.665026\n"
     ]
    }
   ],
   "source": [
    "tfidf_all = [sum_tf_idf(d[q1], d[q2]) for d in data]\n",
    "\n",
    "plt.title('Histogram of Sum of tf-idf of pairs')\n",
    "plt.xlabel('sum tf-idf simularity')\n",
    "plt.ylabel('count')\n",
    "bins = np.arange(0,1.01,.01)\n",
    "plt.hist(tfidf_all, bins=bins)\n",
    "plt.show()\n",
    "\n",
    "tfidf_dup = [sum_tf_idf(d[q1], d[q2]) for d in data if d[dup] == '1']\n",
    "tfidf_non = [sum_tf_idf(d[q1], d[q2]) for d in data if d[dup] == '0']\n",
    "\n",
    "plt.title('Histogram of Sum of tf-idf of pairs')\n",
    "plt.xlabel('sum tf-idf simularity')\n",
    "plt.ylabel('count')\n",
    "\n",
    "plt.hist(tfidf_dup, bins=bins, alpha=0.3, label='duplicates')\n",
    "plt.hist(tfidf_non, bins=bins, alpha=0.3, label='non-duplicates')\n",
    "plt.legend(loc='best')\n",
    "plt.show()\n",
    "\n",
    "# Trivial predictor\n",
    "X = [sum_tf_idf(d[q1], d[q2]) for d in data]\n",
    "\n",
    "# weigted average of averages of dup vs non dup\n",
    "best_boundary = (np.mean(tfidf_dup)*len(tfidf_dup)+np.mean(tfidf_non)*len(tfidf_non))/len(tfidf_all)\n",
    "print(\"(best boundary = %f)\"%best_boundary)\n",
    "\n",
    "def trivial_predictor(x):\n",
    "    if x < best_boundary:\n",
    "        return 1\n",
    "    else:\n",
    "        return 0\n",
    "\n",
    "tp_tfidf_accuracy = float(sum([1 for xi, yi in zip(X,y) if trivial_predictor(xi) == yi]))/len(y)\n",
    "print('trivial Sum tf-idf predictor accuracy %f'%tp_tfidf_accuracy)"
   ]
  },
  {
   "cell_type": "markdown",
   "metadata": {},
   "source": [
    "# global idf"
   ]
  },
  {
   "cell_type": "code",
   "execution_count": 120,
   "metadata": {
    "collapsed": false
   },
   "outputs": [
    {
     "data": {
      "image/png": "[encoded data removed]",
      "text/plain": [
       "<matplotlib.figure.Figure at 0x11c601410>"
      ]
     },
     "metadata": {},
     "output_type": "display_data"
    },
    {
     "data": {
      "image/png": "[encoded data removed]",
      "text/plain": [
       "<matplotlib.figure.Figure at 0x11b5e08d0>"
      ]
     },
     "metadata": {},
     "output_type": "display_data"
    },
    {
     "name": "stdout",
     "output_type": "stream",
     "text": [
      "(best boundary = 3.040666)\n",
      "trivial Sum tf-idf predictor accuracy 0.659133\n"
     ]
    }
   ],
   "source": [
    "idf = {}\n",
    "for q in uniq_questions:\n",
    "    d = vectorize_string(q)\n",
    "    for word in d:\n",
    "        if word in idf:\n",
    "            idf[word] += 1\n",
    "        else:\n",
    "            idf[word] = 1\n",
    "\n",
    "for word in idf:\n",
    "    idf[word] = math.log10(len(uniq_questions)/idf[word])\n",
    "\n",
    "def sum_tf_idf(s1,s2):\n",
    "    '''\n",
    "    returns the sum of the tf-idf of each word in\n",
    "    both strings\n",
    "    '''\n",
    "    \n",
    "    d1 = vectorize_string(s1)\n",
    "    d2 = vectorize_string(s2)\n",
    "    \n",
    "    tf_idf = {}\n",
    "    for word in d1:\n",
    "        tf_idf[word] = float(d1[word])/len(d1)*idf[word]\n",
    "    for word in d2:\n",
    "        if word not in tf_idf:\n",
    "            tf_idf[word] = float(d2[word])/len(d2)*idf[word]\n",
    "            \n",
    "    total = 0\n",
    "    for word in tf_idf:\n",
    "        total += tf_idf[word]\n",
    "        \n",
    "    return total\n",
    "\n",
    "\n",
    "tfidf_all = [sum_tf_idf(d[q1], d[q2]) for d in data]\n",
    "\n",
    "plt.title('Histogram of Sum of tf-idf of pairs')\n",
    "plt.xlabel('sum tf-idf simularity')\n",
    "plt.ylabel('count')\n",
    "bins = np.arange(0,9,.1)\n",
    "plt.hist(tfidf_all, bins=bins)\n",
    "plt.show()\n",
    "\n",
    "tfidf_dup = [sum_tf_idf(d[q1], d[q2]) for d in data if d[dup] == '1']\n",
    "tfidf_non = [sum_tf_idf(d[q1], d[q2]) for d in data if d[dup] == '0']\n",
    "\n",
    "plt.title('Histogram of Sum of tf-idf of pairs')\n",
    "plt.xlabel('sum tf-idf simularity')\n",
    "plt.ylabel('count')\n",
    "\n",
    "plt.hist(tfidf_dup, bins=bins, alpha=0.3, label='duplicates')\n",
    "plt.hist(tfidf_non, bins=bins, alpha=0.3, label='non-duplicates')\n",
    "plt.legend(loc='best')\n",
    "plt.show()\n",
    "\n",
    "# Trivial predictor\n",
    "X = [sum_tf_idf(d[q1], d[q2]) for d in data]\n",
    "\n",
    "# weigted average of averages of dup vs non dup\n",
    "best_boundary = (np.mean(tfidf_dup)*len(tfidf_dup)+np.mean(tfidf_non)*len(tfidf_non))/len(tfidf_all)\n",
    "print(\"(best boundary = %f)\"%best_boundary)\n",
    "\n",
    "def trivial_predictor(x):\n",
    "    if x < best_boundary:\n",
    "        return 1\n",
    "    else:\n",
    "        return 0\n",
    "\n",
    "tp_tfidf_accuracy = float(sum([1 for xi, yi in zip(X,y) if trivial_predictor(xi) == yi]))/len(y)\n",
    "print('trivial Sum tf-idf predictor accuracy %f'%tp_tfidf_accuracy)"
   ]
  },
  {
   "cell_type": "markdown",
   "metadata": {},
   "source": [
    "# tf\\*idf\\*gidf"
   ]
  },
  {
   "cell_type": "code",
   "execution_count": 123,
   "metadata": {
    "collapsed": false
   },
   "outputs": [
    {
     "data": {
      "image/png": "[encoded data removed]",
      "text/plain": [
       "<matplotlib.figure.Figure at 0x114ec0210>"
      ]
     },
     "metadata": {},
     "output_type": "display_data"
    },
    {
     "data": {
      "image/png": "[encoded data removed]",
      "text/plain": [
       "<matplotlib.figure.Figure at 0x11c7f6250>"
      ]
     },
     "metadata": {},
     "output_type": "display_data"
    },
    {
     "name": "stdout",
     "output_type": "stream",
     "text": [
      "(best boundary = 0.630915)\n",
      "trivial Sum tf-idf predictor accuracy 0.679805\n"
     ]
    }
   ],
   "source": [
    "gidf = {}\n",
    "for q in uniq_questions:\n",
    "    d = vectorize_string(q)\n",
    "    for word in d:\n",
    "        if word in gidf:\n",
    "            gidf[word] += 1\n",
    "        else:\n",
    "            gidf[word] = 1\n",
    "\n",
    "for word in gidf:\n",
    "    gidf[word] = math.log10(len(uniq_questions)/gidf[word])\n",
    "\n",
    "def sum_tf_idf(s1,s2):\n",
    "    '''\n",
    "    returns the sum of the tf-idf of each word in\n",
    "    both strings\n",
    "    '''\n",
    "    \n",
    "    d1 = vectorize_string(s1)\n",
    "    d2 = vectorize_string(s2)\n",
    "    \n",
    "    idf = {}\n",
    "    for word in d1:\n",
    "        if word in d1 and word in d2:\n",
    "            idf[word] = 0\n",
    "        else:\n",
    "            idf[word] = 0.3010299956639812\n",
    "    for word in d2:\n",
    "        if word not in idf:\n",
    "            idf[word] = 0.3010299956639812\n",
    "    \n",
    "    tf_idf = {}\n",
    "    for word in d1:\n",
    "        tf_idf[word] = float(d1[word])/len(d1)*idf[word]*gidf[word]\n",
    "    for word in d2:\n",
    "        if word not in tf_idf:\n",
    "            tf_idf[word] = float(d2[word])/len(d2)*idf[word]*gidf[word]\n",
    "            \n",
    "    total = 0\n",
    "    for word in tf_idf:\n",
    "        total += tf_idf[word]\n",
    "        \n",
    "    return total\n",
    "\n",
    "\n",
    "\n",
    "tfidf_all = [sum_tf_idf(d[q1], d[q2]) for d in data]\n",
    "\n",
    "plt.title('Histogram of Sum of tf-idf of pairs')\n",
    "plt.xlabel('sum tf-idf simularity')\n",
    "plt.ylabel('count')\n",
    "bins = np.arange(0,3,.01)\n",
    "plt.hist(tfidf_all, bins=bins)\n",
    "plt.show()\n",
    "\n",
    "tfidf_dup = [sum_tf_idf(d[q1], d[q2]) for d in data if d[dup] == '1']\n",
    "tfidf_non = [sum_tf_idf(d[q1], d[q2]) for d in data if d[dup] == '0']\n",
    "\n",
    "plt.title('Histogram of Sum of tf-idf of pairs')\n",
    "plt.xlabel('sum tf-idf simularity')\n",
    "plt.ylabel('count')\n",
    "\n",
    "plt.hist(tfidf_dup, bins=bins, alpha=0.3, label='duplicates')\n",
    "plt.hist(tfidf_non, bins=bins, alpha=0.3, label='non-duplicates')\n",
    "plt.legend(loc='best')\n",
    "plt.show()\n",
    "\n",
    "# Trivial predictor\n",
    "X = [sum_tf_idf(d[q1], d[q2]) for d in data]\n",
    "\n",
    "# weigted average of averages of dup vs non dup\n",
    "best_boundary = (np.mean(tfidf_dup)*len(tfidf_dup)+np.mean(tfidf_non)*len(tfidf_non))/len(tfidf_all)\n",
    "print(\"(best boundary = %f)\"%best_boundary)\n",
    "\n",
    "def trivial_predictor(x):\n",
    "    if x < best_boundary:\n",
    "        return 1\n",
    "    else:\n",
    "        return 0\n",
    "\n",
    "tp_tfidf_accuracy = float(sum([1 for xi, yi in zip(X,y) if trivial_predictor(xi) == yi]))/len(y)\n",
    "print('trivial Sum tf-idf predictor accuracy %f'%tp_tfidf_accuracy)"
   ]
  },
  {
   "cell_type": "code",
   "execution_count": null,
   "metadata": {
    "collapsed": true
   },
   "outputs": [],
   "source": []
  }
 ],
 "metadata": {
  "kernelspec": {
   "display_name": "Python 2",
   "language": "python",
   "name": "python2"
  },
  "language_info": {
   "codemirror_mode": {
    "name": "ipython",
    "version": 2
   },
   "file_extension": ".py",
   "mimetype": "text/x-python",
   "name": "python",
   "nbconvert_exporter": "python",
   "pygments_lexer": "ipython2",
   "version": "2.7.13"
  }
 },
 "nbformat": 4,
 "nbformat_minor": 0
}

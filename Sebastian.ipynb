{
 "cells": [
  {
   "cell_type": "code",
   "execution_count": 54,
   "metadata": {
    "collapsed": false
   },
   "outputs": [],
   "source": [
    "import csv\n",
    "import matplotlib.pyplot as plt\n",
    "import string\n",
    "import numpy as np\n",
    "\n",
    "%matplotlib inline\n",
    "plt.rcParams[\"figure.figsize\"] = (10,10)"
   ]
  },
  {
   "cell_type": "code",
   "execution_count": 2,
   "metadata": {
    "collapsed": false
   },
   "outputs": [
    {
     "name": "stdout",
     "output_type": "stream",
     "text": [
      "Reading data...\n",
      "done\n"
     ]
    }
   ],
   "source": [
    "print(\"Reading data...\" )    \n",
    "        \n",
    "with open('questions.csv') as csvfile:\n",
    "    reader = csv.reader(csvfile)\n",
    "    keys = next(reader)\n",
    "    data = [row for row in reader]  \n",
    "    \n",
    "print(\"done\")"
   ]
  },
  {
   "cell_type": "code",
   "execution_count": 3,
   "metadata": {
    "collapsed": true
   },
   "outputs": [],
   "source": [
    "#indexes for values in data\n",
    "pid = 0\n",
    "qid1 = 1\n",
    "qid2 = 2\n",
    "q1 = 3\n",
    "q2 = 4\n",
    "dup = 5"
   ]
  },
  {
   "cell_type": "code",
   "execution_count": 60,
   "metadata": {
    "collapsed": false
   },
   "outputs": [
    {
     "name": "stdout",
     "output_type": "stream",
     "text": [
      "149306 duplicates\n",
      "255045 non-duplicates\n"
     ]
    }
   ],
   "source": [
    "# label distribution\n",
    "print(\"%d duplicates\"%sum([1 for d in data if d[dup] == '1']))\n",
    "print(\"%d non-duplicates\"%sum([1 for d in data if d[dup] == '0']))"
   ]
  },
  {
   "cell_type": "code",
   "execution_count": 4,
   "metadata": {
    "collapsed": true
   },
   "outputs": [],
   "source": [
    "# remove punctuation and ignore case\n",
    "punctuation = set(string.punctuation)\n",
    "for i in range(len(data)):\n",
    "    data[i][q1] =''.join([c for c in data[i][q1].lower() if not c in punctuation])\n",
    "    data[i][q2] =''.join([c for c in data[i][q2].lower() if not c in punctuation])"
   ]
  },
  {
   "cell_type": "code",
   "execution_count": 5,
   "metadata": {
    "collapsed": false
   },
   "outputs": [],
   "source": [
    "question_count = {} # maps qid to count\n",
    "uniq_questions = [] # list of unique questions strings\n",
    "\n",
    "for d in data:\n",
    "    \n",
    "    if d[qid1] in question_count:\n",
    "        question_count[d[qid1]] += 1\n",
    "    else:\n",
    "        question_count[d[qid1]] = 1\n",
    "        uniq_questions.append(d[q1])\n",
    "        \n",
    "    if d[qid2] in question_count:\n",
    "        question_count[d[qid2]] += 1\n",
    "    else:\n",
    "        question_count[d[qid2]] = 1\n",
    "        uniq_questions.append(d[q2])"
   ]
  },
  {
   "cell_type": "code",
   "execution_count": 9,
   "metadata": {
    "collapsed": false
   },
   "outputs": [
    {
     "name": "stdout",
     "output_type": "stream",
     "text": [
      "unique question lengths\n",
      "\tmin = 0\n",
      "\tmax = 1130\n",
      "\tmean = 58.3382611569\n"
     ]
    }
   ],
   "source": [
    "#unique question word length\n",
    "question_lengths = [len(q) for q in uniq_questions]\n",
    "print(\"unique question lengths\")\n",
    "print(\"\\tmin = %s\"%min(question_lengths))\n",
    "print(\"\\tmax = %s\"%max(question_lengths))\n",
    "print(\"\\tmean = %s\"%(float(sum(question_lengths))/len(question_lengths)))\n"
   ]
  },
  {
   "cell_type": "code",
   "execution_count": 10,
   "metadata": {
    "collapsed": false
   },
   "outputs": [
    {
     "name": "stdout",
     "output_type": "stream",
     "text": [
      "unique questions: 789801\n",
      "questions used more than once: 13698\n",
      "\n",
      "questions used 1 times: 776103\n",
      "questions used 2 times: 11135\n",
      "questions used 3 times: 1591\n",
      "questions used 4 times: 455\n",
      "questions used 5 times: 213\n",
      "questions used 6 times: 117\n",
      "questions used 7 times: 55\n",
      "questions used 8 times: 31\n",
      "questions used 9 times: 33\n",
      "...\n",
      "\n"
     ]
    }
   ],
   "source": [
    "print('unique questions: %d'%len(question_count))\n",
    "print('questions used more than once: %d'%sum([1 if question_count[q] > 1 else 0 for q in question_count]))\n",
    "\n",
    "print('')\n",
    "\n",
    "for i in range(1,10):\n",
    "    print('questions used %d times: %d'%(i, sum([1 if question_count[q] == i else 0 for q in question_count])))\n",
    "print('...')\n",
    "\n",
    "print('')\n",
    "\n"
   ]
  },
  {
   "cell_type": "code",
   "execution_count": 22,
   "metadata": {
    "collapsed": true
   },
   "outputs": [],
   "source": [
    "def vectorize_string(s):\n",
    "    '''\n",
    "    turns a string into a dictionary of (substrings of len p). \n",
    "    Can be used as a 'vector' where noexistant keys have val 0\n",
    "    \n",
    "    Each (substrings of len p) maps to the amount of appearances\n",
    "    of itself in the original string\n",
    "    '''\n",
    "    \n",
    "    v = {}\n",
    "    for word in s.split():\n",
    "        if word in v:\n",
    "            v[word] += 1\n",
    "        else:\n",
    "            v[word] = 1\n",
    "            \n",
    "    return v\n",
    "\n",
    "\n",
    "def magnitude_dict(data):\n",
    "    '''\n",
    "    Evaulats the magnitude of a dict\n",
    "    '''\n",
    "    \n",
    "    return sum([value**2 for value in data.values()])**.5\n",
    "\n",
    "\n",
    "def dot_dicts(d1,d2):\n",
    "    '''\n",
    "    multiplies the values of the overlaping keys\n",
    "    in two dictionaries.  It chooses to iterate\n",
    "    over the smaller and lookup in the larger\n",
    "    '''\n",
    "    \n",
    "    a = d1 if len(d1) < len(d2) else d2\n",
    "    b = d2 if len(d1) < len(d2) else d1\n",
    "    \n",
    "    dot = 0\n",
    "    # a is shorter than b\n",
    "    for s in a:\n",
    "        if s in b:\n",
    "            dot += a[s]*b[s]\n",
    "            \n",
    "    return dot\n",
    "    \n",
    "def cosine_simularity_string(s1,s2):\n",
    "    '''\n",
    "    returns the cosine simularity of two strings\n",
    "    words in each string are considered dimensions\n",
    "    '''\n",
    "    \n",
    "    d1 = vectorize_string(s1)\n",
    "    d2 = vectorize_string(s2)\n",
    "    return dot_dicts(d1,d2)/(magnitude_dict(d1)*magnitude_dict(d2))\n",
    "    "
   ]
  },
  {
   "cell_type": "code",
   "execution_count": 31,
   "metadata": {
    "collapsed": false
   },
   "outputs": [],
   "source": [
    "data_no_empty = [d for d in data if d[q1] != '' and d[q2] != '']\n",
    "cs_all = [cosine_simularity_string(d[q1], d[q2]) for d in data_no_empty]"
   ]
  },
  {
   "cell_type": "code",
   "execution_count": 68,
   "metadata": {
    "collapsed": false
   },
   "outputs": [
    {
     "data": {
      "image/png": "[encoded data removed]",
      "text/plain": [
       "<matplotlib.figure.Figure at 0x124714a10>"
      ]
     },
     "metadata": {},
     "output_type": "display_data"
    }
   ],
   "source": [
    "plt.title('Histogram of Cosine Simularity of pairs')\n",
    "plt.xlabel('cosine simularity')\n",
    "plt.ylabel('count')\n",
    "bins = np.arange(0,1.01,.01)\n",
    "plt.hist(cs_all, bins=bins)\n",
    "plt.show()"
   ]
  },
  {
   "cell_type": "code",
   "execution_count": 43,
   "metadata": {
    "collapsed": false
   },
   "outputs": [
    {
     "name": "stdout",
     "output_type": "stream",
     "text": [
      "559 pairs of questions are exactly the same when case and puncuation is removed\n"
     ]
    }
   ],
   "source": [
    "count = 0\n",
    "for d in data_no_empty:\n",
    "    if d[q1] == d[q2]:\n",
    "        count += int(d[dup])\n",
    "print (\"%d pairs of questions are exactly the same when case and puncuation is removed\"%count)"
   ]
  },
  {
   "cell_type": "code",
   "execution_count": 52,
   "metadata": {
    "collapsed": true
   },
   "outputs": [],
   "source": [
    "cs_all_dup = [cosine_simularity_string(d[q1], d[q2]) for d in data_no_empty if d[dup] == '1']\n",
    "cs_all_non = [cosine_simularity_string(d[q1], d[q2]) for d in data_no_empty if d[dup] == '0']"
   ]
  },
  {
   "cell_type": "code",
   "execution_count": 64,
   "metadata": {
    "collapsed": false
   },
   "outputs": [
    {
     "data": {
      "image/png": "[encoded data removed]",
      "text/plain": [
       "<matplotlib.figure.Figure at 0x11945fc90>"
      ]
     },
     "metadata": {},
     "output_type": "display_data"
    }
   ],
   "source": [
    "plt.title('Histogram of Cosine Simularity of pairs')\n",
    "plt.xlabel('cosine simularity')\n",
    "plt.ylabel('count')\n",
    "\n",
    "plt.hist(cs_all_dup, bins=bins, alpha=0.3, label='duplicates')\n",
    "plt.hist(cs_all_non, bins=bins, alpha=0.3, label='non-duplicates')\n",
    "plt.legend(loc='best')\n",
    "plt.show()"
   ]
  },
  {
   "cell_type": "code",
   "execution_count": null,
   "metadata": {
    "collapsed": true
   },
   "outputs": [],
   "source": []
  }
 ],
 "metadata": {
  "kernelspec": {
   "display_name": "Python 2",
   "language": "python",
   "name": "python2"
  },
  "language_info": {
   "codemirror_mode": {
    "name": "ipython",
    "version": 2
   },
   "file_extension": ".py",
   "mimetype": "text/x-python",
   "name": "python",
   "nbconvert_exporter": "python",
   "pygments_lexer": "ipython2",
   "version": "2.7.13"
  }
 },
 "nbformat": 4,
 "nbformat_minor": 0
}

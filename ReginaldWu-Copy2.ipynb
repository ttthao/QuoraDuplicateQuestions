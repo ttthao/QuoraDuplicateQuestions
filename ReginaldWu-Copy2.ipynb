{
 "cells": [
  {
   "cell_type": "code",
   "execution_count": 1,
   "metadata": {
    "collapsed": false
   },
   "outputs": [],
   "source": [
    "import csv\n",
    "import os\n",
    "#os.system('conda install numpy')\n",
    "import numpy\n",
    "import string\n",
    "from collections import defaultdict\n",
    "#os.system('conda install nltk')\n",
    "import nltk"
   ]
  },
  {
   "cell_type": "code",
   "execution_count": 2,
   "metadata": {
    "collapsed": false
   },
   "outputs": [],
   "source": [
    "import spacy\n",
    "from __future__ import unicode_literals"
   ]
  },
  {
   "cell_type": "code",
   "execution_count": 3,
   "metadata": {
    "collapsed": false
   },
   "outputs": [
    {
     "name": "stdout",
     "output_type": "stream",
     "text": [
      "Reading data...\n",
      "done\n"
     ]
    }
   ],
   "source": [
    "print(\"Reading data...\" )    \n",
    "        \n",
    "with open('questions.csv', encoding='utf-8') as csvfile:\n",
    "    reader = csv.reader(csvfile)\n",
    "    keys = next(reader)\n",
    "    data = [row for row in reader]  \n",
    "    \n",
    "print(\"done\")"
   ]
  },
  {
   "cell_type": "code",
   "execution_count": 4,
   "metadata": {
    "collapsed": false
   },
   "outputs": [],
   "source": [
    "#indexes for values in data\n",
    "pid = 0\n",
    "qid1 = 1\n",
    "qid2 = 2\n",
    "q1 = 3\n",
    "q2 = 4\n",
    "dup = 5"
   ]
  },
  {
   "cell_type": "code",
   "execution_count": 5,
   "metadata": {
    "collapsed": false
   },
   "outputs": [],
   "source": [
    "qPairs = []\n",
    "for t in data:\n",
    "    t[5] = int(t[5])\n",
    "    qPairs.append(t[3:])"
   ]
  },
  {
   "cell_type": "code",
   "execution_count": 6,
   "metadata": {
    "collapsed": false
   },
   "outputs": [],
   "source": [
    "dupPairs = []\n",
    "nonPairs = []\n",
    "for q in qPairs:\n",
    "    if q[2] == 0:\n",
    "        nonPairs.append(q)\n",
    "    else:\n",
    "        dupPairs.append(q)"
   ]
  },
  {
   "cell_type": "code",
   "execution_count": 7,
   "metadata": {
    "collapsed": false
   },
   "outputs": [
    {
     "data": {
      "text/plain": [
       "['Does my life hold any significance to the world/universe?',\n",
       " 'Do we truly have any purpose in life? Or do we create a purpose to make ourselves feel significant in the very vast world, or to make ourselves feel that our existence in the vast world is required?',\n",
       " 0]"
      ]
     },
     "execution_count": 7,
     "metadata": {},
     "output_type": "execute_result"
    }
   ],
   "source": [
    "nonPairs[534]"
   ]
  },
  {
   "cell_type": "code",
   "execution_count": 8,
   "metadata": {
    "collapsed": false
   },
   "outputs": [
    {
     "data": {
      "text/plain": [
       "['Do we truly have any purpose in life? Or do we create a purpose to make ourselves feel significant in the very vast world, or to make ourselves feel that our existence in the vast world is required?',\n",
       " 0]"
      ]
     },
     "execution_count": 8,
     "metadata": {},
     "output_type": "execute_result"
    }
   ],
   "source": [
    "nonPairs[534][1:3]"
   ]
  },
  {
   "cell_type": "code",
   "execution_count": 9,
   "metadata": {
    "collapsed": false
   },
   "outputs": [],
   "source": [
    "allQuestions = defaultdict(list)"
   ]
  },
  {
   "cell_type": "code",
   "execution_count": null,
   "metadata": {
    "collapsed": true
   },
   "outputs": [],
   "source": []
  },
  {
   "cell_type": "code",
   "execution_count": 10,
   "metadata": {
    "collapsed": false
   },
   "outputs": [
    {
     "data": {
      "text/plain": [
       "['Astrology: I am a Capricorn Sun Cap moon and cap rising...what does that say about me?',\n",
       " \"I'm a triple Capricorn (Sun, Moon and ascendant in Capricorn) What does this say about me?\",\n",
       " 1]"
      ]
     },
     "execution_count": 10,
     "metadata": {},
     "output_type": "execute_result"
    }
   ],
   "source": [
    "dupPairs[0]"
   ]
  },
  {
   "cell_type": "code",
   "execution_count": 11,
   "metadata": {
    "collapsed": false
   },
   "outputs": [],
   "source": [
    "allQuestions = defaultdict(list)\n",
    "for d in data:\n",
    "    allQuestions[int(d[qid1])].append([int(d[qid2]),int(d[dup])])\n",
    "    allQuestions[int(d[qid2])].append([int(d[qid1]),int(d[dup])])"
   ]
  },
  {
   "cell_type": "code",
   "execution_count": 12,
   "metadata": {
    "collapsed": false
   },
   "outputs": [],
   "source": [
    "indices = []\n",
    "for key in allQuestions:\n",
    "    if len(allQuestions[key]) > 1:\n",
    "        indices.append(key)"
   ]
  },
  {
   "cell_type": "code",
   "execution_count": 13,
   "metadata": {
    "collapsed": false
   },
   "outputs": [
    {
     "data": {
      "text/plain": [
       "[[901, 1], [623627, 0], [698850, 0]]"
      ]
     },
     "execution_count": 13,
     "metadata": {},
     "output_type": "execute_result"
    }
   ],
   "source": [
    "allQuestions[902]"
   ]
  },
  {
   "cell_type": "code",
   "execution_count": 14,
   "metadata": {
    "collapsed": false
   },
   "outputs": [
    {
     "name": "stdout",
     "output_type": "stream",
     "text": [
      "astrology: i am a capricorn sun cap moon and cap rising...what does that say about me?\n",
      "i'm a triple capricorn (sun, moon and ascendant in capricorn) what does this say about me?\n"
     ]
    }
   ],
   "source": [
    "print(dupPairs[0][0].lower())\n",
    "print(dupPairs[0][1].lower())"
   ]
  },
  {
   "cell_type": "code",
   "execution_count": 15,
   "metadata": {
    "collapsed": false
   },
   "outputs": [],
   "source": [
    "text1 = nltk.word_tokenize(dupPairs[0][0].lower())\n",
    "text2 = nltk.word_tokenize(dupPairs[0][1].lower())\n",
    "pos1 = nltk.pos_tag(text1)\n",
    "pos2 = nltk.pos_tag(text2)\n",
    "test = nltk.pos_tag(nltk.word_tokenize(qPairs[0][0].lower()))"
   ]
  },
  {
   "cell_type": "code",
   "execution_count": 16,
   "metadata": {
    "collapsed": false
   },
   "outputs": [
    {
     "name": "stdout",
     "output_type": "stream",
     "text": [
      "[('astrology', 'NN'), (':', ':'), ('i', 'NN'), ('am', 'VBP'), ('a', 'DT'), ('capricorn', 'JJ'), ('sun', 'NN'), ('cap', 'NN'), ('moon', 'NN'), ('and', 'CC'), ('cap', 'NN'), ('rising', 'NN'), ('...', ':'), ('what', 'WP'), ('does', 'VBZ'), ('that', 'DT'), ('say', 'VBP'), ('about', 'IN'), ('me', 'PRP'), ('?', '.')]\n",
      "[('i', 'NN'), (\"'m\", 'VBP'), ('a', 'DT'), ('triple', 'JJ'), ('capricorn', 'NN'), ('(', '('), ('sun', 'NN'), (',', ','), ('moon', 'NN'), ('and', 'CC'), ('ascendant', 'NN'), ('in', 'IN'), ('capricorn', 'NN'), (')', ')'), ('what', 'WP'), ('does', 'VBZ'), ('this', 'DT'), ('say', 'VB'), ('about', 'IN'), ('me', 'PRP'), ('?', '.')]\n"
     ]
    }
   ],
   "source": [
    "print(pos1)\n",
    "print(pos2)"
   ]
  },
  {
   "cell_type": "code",
   "execution_count": 30,
   "metadata": {
    "collapsed": false
   },
   "outputs": [],
   "source": [
    "nouns1 = []\n",
    "nouns2 = []\n",
    "for pair in pos1:\n",
    "    if pair[1] == 'NN':\n",
    "        nouns1.append(pair[0])\n",
    "for pair in pos2:\n",
    "    if pair[1] == 'NN':\n",
    "        nouns2.append(pair[0])"
   ]
  },
  {
   "cell_type": "code",
   "execution_count": 94,
   "metadata": {
    "collapsed": true
   },
   "outputs": [],
   "source": [
    "def toNouns(sent):\n",
    "    nouns = {}\n",
    "    pos = nltk.pos_tag(nltk.word_tokenize(sent.lower()))\n",
    "    for pair in pos:\n",
    "        if pair[1].startswith('NN'):\n",
    "            if pair[0] in nouns:\n",
    "                nouns[pair[0]] += 1\n",
    "            else:\n",
    "                nouns[pair[0]] = 1\n",
    "    return nouns"
   ]
  },
  {
   "cell_type": "code",
   "execution_count": 95,
   "metadata": {
    "collapsed": true
   },
   "outputs": [],
   "source": [
    "def toVerbs(sent):\n",
    "    verbs = {}\n",
    "    pos = nltk.pos_tag(nltk.word_tokenize(sent.lower()))\n",
    "    for pair in pos:\n",
    "        if pair[1].startswith('VB'):\n",
    "            if pair[0] in verbs:\n",
    "                verbs[pair[0]] += 1\n",
    "            else:\n",
    "                verbs[pair[0]] = 1\n",
    "    return verbs"
   ]
  },
  {
   "cell_type": "code",
   "execution_count": 28,
   "metadata": {
    "collapsed": false
   },
   "outputs": [
    {
     "name": "stdout",
     "output_type": "stream",
     "text": [
      "['astrology', 'i', 'sun', 'cap', 'moon', 'cap', 'rising']\n",
      "['i', 'capricorn', 'sun', 'moon', 'ascendant', 'capricorn']\n"
     ]
    }
   ],
   "source": [
    "print(nouns1)\n",
    "print(nouns2)"
   ]
  },
  {
   "cell_type": "code",
   "execution_count": 20,
   "metadata": {
    "collapsed": true
   },
   "outputs": [],
   "source": [
    "def vectorize_string(s):\n",
    "    '''\n",
    "    turns a string into a dictionary of (substrings of len p). \n",
    "    Can be used as a 'vector' where noexistant keys have val 0\n",
    "    \n",
    "    Each (substrings of len p) maps to the amount of appearances\n",
    "    of itself in the original string\n",
    "    '''\n",
    "    \n",
    "    v = {}\n",
    "    for word in s:\n",
    "        if word in v:\n",
    "            v[word] += 1\n",
    "        else:\n",
    "            v[word] = 1\n",
    "            \n",
    "    return v"
   ]
  },
  {
   "cell_type": "code",
   "execution_count": 21,
   "metadata": {
    "collapsed": true
   },
   "outputs": [],
   "source": [
    "def magnitude_dict(data):\n",
    "    '''\n",
    "    Evaulats the magnitude of a dict\n",
    "    '''\n",
    "    \n",
    "    return sum([value**2 for value in data.values()])**.5\n"
   ]
  },
  {
   "cell_type": "code",
   "execution_count": 22,
   "metadata": {
    "collapsed": true
   },
   "outputs": [],
   "source": [
    "def dot_dicts(d1,d2):\n",
    "    '''\n",
    "    multiplies the values of the overlaping keys\n",
    "    in two dictionaries.  It chooses to iterate\n",
    "    over the smaller and lookup in the larger\n",
    "    '''\n",
    "    \n",
    "    a = d1 if len(d1) < len(d2) else d2\n",
    "    b = d2 if len(d1) < len(d2) else d1\n",
    "    \n",
    "    dot = 0\n",
    "    # a is shorter than b\n",
    "    for s in a:\n",
    "        if s in b:\n",
    "            dot += a[s]*b[s]\n",
    "            \n",
    "    return dot"
   ]
  },
  {
   "cell_type": "code",
   "execution_count": 23,
   "metadata": {
    "collapsed": true
   },
   "outputs": [],
   "source": [
    "def cosine_similarity_string(s1,s2):\n",
    "    '''\n",
    "    returns the cosine simularity of two strings\n",
    "    words in each string are considered dimensions\n",
    "    '''\n",
    "    \n",
    "    d1 = vectorize_string(s1)\n",
    "    d2 = vectorize_string(s2)\n",
    "    return dot_dicts(d1,d2)/(magnitude_dict(d1)*magnitude_dict(d2))"
   ]
  },
  {
   "cell_type": "code",
   "execution_count": 24,
   "metadata": {
    "collapsed": true
   },
   "outputs": [],
   "source": [
    "def cosine_sim_dict(d1,d2):\n",
    "    return dot_dicts(d1,d2)/(magnitude_dict(d1)*magnitude_dict(d2))"
   ]
  },
  {
   "cell_type": "code",
   "execution_count": 50,
   "metadata": {
    "collapsed": false
   },
   "outputs": [
    {
     "data": {
      "text/plain": [
       "0.40824829046386296"
      ]
     },
     "execution_count": 50,
     "metadata": {},
     "output_type": "execute_result"
    }
   ],
   "source": [
    "cosine_sim_dict(toNouns(qPairs[4][0]), toNouns(qPairs[4][1]))"
   ]
  },
  {
   "cell_type": "code",
   "execution_count": 116,
   "metadata": {
    "collapsed": false
   },
   "outputs": [
    {
     "name": "stdout",
     "output_type": "stream",
     "text": [
      "0.4999999999999999\n",
      "0.4999999999999999\n",
      "{'questions': 1, 'quora': 1}\n",
      "{'question': 1, 'quora': 1}\n",
      "{'ask': 1, 'are': 1}\n",
      "{'ask': 1, 'i': 1}\n",
      "['What are the questions should not ask on Quora?', 'Which question should I ask on Quora?', 0]\n"
     ]
    }
   ],
   "source": [
    "z = 22\n",
    "print(cosine_sim_dict(toNouns(qPairs[z][0]), toNouns(qPairs[z][1])))\n",
    "print(cosine_sim_dict(toVerbs(qPairs[z][0]), toVerbs(qPairs[z][1])))\n",
    "print(toNouns(qPairs[z][0]))\n",
    "print(toNouns(qPairs[z][1]))\n",
    "print(toVerbs(qPairs[z][0]))\n",
    "print(toVerbs(qPairs[z][1]))\n",
    "print(qPairs[z])\n",
    "#print(qPairs[z][2])"
   ]
  },
  {
   "cell_type": "code",
   "execution_count": 45,
   "metadata": {
    "collapsed": false
   },
   "outputs": [
    {
     "data": {
      "text/plain": [
       "['How can I increase the speed of my internet connection while using a VPN?',\n",
       " 'How can Internet speed be increased by hacking through DNS?',\n",
       " 0]"
      ]
     },
     "execution_count": 45,
     "metadata": {},
     "output_type": "execute_result"
    }
   ],
   "source": [
    "qPairs[2]"
   ]
  },
  {
   "cell_type": "code",
   "execution_count": 31,
   "metadata": {
    "collapsed": false
   },
   "outputs": [
    {
     "data": {
      "text/plain": [
       "{}"
      ]
     },
     "execution_count": 31,
     "metadata": {},
     "output_type": "execute_result"
    }
   ],
   "source": [
    "toNouns(data[3][q1])"
   ]
  },
  {
   "cell_type": "code",
   "execution_count": null,
   "metadata": {
    "collapsed": false
   },
   "outputs": [],
   "source": [
    "data_no_empty = [d for d in data if len(toNouns(d[q1])) != 0 and len(toNouns(d[q2])) != 0]"
   ]
  },
  {
   "cell_type": "code",
   "execution_count": null,
   "metadata": {
    "collapsed": false
   },
   "outputs": [],
   "source": [
    "cs_all = [cosine_simularity_string(toNouns(d[q1]), toNouns(d[q2])) for d in data_no_empty]"
   ]
  },
  {
   "cell_type": "code",
   "execution_count": null,
   "metadata": {
    "collapsed": true
   },
   "outputs": [],
   "source": [
    "plt.title('Histogram of Cosine Simularity of pairs')\n",
    "plt.xlabel('cosine simularity')\n",
    "plt.ylabel('count')\n",
    "bins = np.arange(0,1.01,.01)\n",
    "plt.hist(cs_all, bins=bins)\n",
    "plt.show()"
   ]
  },
  {
   "cell_type": "code",
   "execution_count": 35,
   "metadata": {
    "collapsed": false
   },
   "outputs": [
    {
     "data": {
      "text/plain": [
       "[('find', 'VB'),\n",
       " ('the', 'DT'),\n",
       " ('remainder', 'NN'),\n",
       " ('when', 'WRB'),\n",
       " ('[', 'NNP'),\n",
       " ('math', 'NN'),\n",
       " (']', 'VBD'),\n",
       " ('23^', 'CD'),\n",
       " ('{', '('),\n",
       " ('24', 'CD'),\n",
       " ('}', ')'),\n",
       " ('[', 'NNP'),\n",
       " ('/math', 'NNP'),\n",
       " (']', 'NNP'),\n",
       " ('is', 'VBZ'),\n",
       " ('divided', 'VBN'),\n",
       " ('by', 'IN'),\n",
       " ('24,23', 'CD'),\n",
       " ('?', '.')]"
      ]
     },
     "execution_count": 35,
     "metadata": {},
     "output_type": "execute_result"
    }
   ],
   "source": [
    "sent = data[3][q2]\n",
    "nltk.pos_tag(nltk.word_tokenize(sent.lower()))"
   ]
  },
  {
   "cell_type": "code",
   "execution_count": 34,
   "metadata": {
    "collapsed": false
   },
   "outputs": [
    {
     "data": {
      "text/plain": [
       "404351"
      ]
     },
     "execution_count": 34,
     "metadata": {},
     "output_type": "execute_result"
    }
   ],
   "source": [
    "len(data)"
   ]
  },
  {
   "cell_type": "code",
   "execution_count": null,
   "metadata": {
    "collapsed": true
   },
   "outputs": [],
   "source": []
  }
 ],
 "metadata": {
  "anaconda-cloud": {},
  "kernelspec": {
   "display_name": "Python [conda root]",
   "language": "python",
   "name": "conda-root-py"
  },
  "language_info": {
   "codemirror_mode": {
    "name": "ipython",
    "version": 3
   },
   "file_extension": ".py",
   "mimetype": "text/x-python",
   "name": "python",
   "nbconvert_exporter": "python",
   "pygments_lexer": "ipython3",
   "version": "3.5.2"
  }
 },
 "nbformat": 4,
 "nbformat_minor": 1
}
